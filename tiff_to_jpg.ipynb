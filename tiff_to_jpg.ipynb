{
 "cells": [
  {
   "cell_type": "code",
   "execution_count": 1,
   "metadata": {},
   "outputs": [],
   "source": [
    "#!/usr/bin/env python3\n",
    "# -*- coding: utf-8 -*-"
   ]
  },
  {
   "cell_type": "code",
   "execution_count": 2,
   "metadata": {},
   "outputs": [],
   "source": [
    "import os\n",
    "import h5py\n",
    "import numpy as np\n",
    "from PIL import Image"
   ]
  },
  {
   "cell_type": "code",
   "execution_count": 74,
   "metadata": {},
   "outputs": [
    {
     "name": "stdout",
     "output_type": "stream",
     "text": [
      "['AdditionalImageInformation', 'DimensionScaleX', 'DimensionScaleY', 'DimensionScaleZ', 'Image', 'XOffset', 'YOffset', 'ZOffset']\n"
     ]
    }
   ],
   "source": [
    "# hdf = h5py.File('./HL60_LowNoise_C75_3D_HDF5/image-final_0000.h5','r')\n",
    "# print(list(hdf.keys()))\n",
    "# array = hdf['Image'][:]\n",
    "# img = Image.fromarray(array.astype('uint8'), 'RGB')\n",
    "# img.save('image-final_0000.jpg', quality=100)\n",
    "# img.show()\n",
    "# array.shape"
   ]
  },
  {
   "cell_type": "code",
   "execution_count": 3,
   "metadata": {},
   "outputs": [],
   "source": [
    "for i in range(30):\n",
    "    im = Image.open('./HL60_LowNoise_C75_3D_TIFF/image-final_{0:04d}.tif'.format(i))\n",
    "#     print(im.format, im.size, im.mode, im.n_frames)\n",
    "\n",
    "#     for i in range(im.n_frames):\n",
    "#         im.seek(i)\n",
    "#         ar = np.array(im)\n",
    "#         ar = ar / 2**4\n",
    "#         pilImg = Image.fromarray(np.uint8(ar))\n",
    "#         pilImg.save(\"x_{0:04d}.jpg\".format(i))\n",
    "\n",
    "    im.seek(70)\n",
    "    ar = np.array(im)\n",
    "    ar = ar / 2**4\n",
    "    pilImg = Image.fromarray(np.uint8(ar))\n",
    "    pilImg.save('./datasets/train/image/image-final_{0:04d}.jpg'.format(i))"
   ]
  },
  {
   "cell_type": "code",
   "execution_count": null,
   "metadata": {},
   "outputs": [],
   "source": []
  }
 ],
 "metadata": {
  "kernelspec": {
   "display_name": "Python 3",
   "language": "python",
   "name": "python3"
  },
  "language_info": {
   "codemirror_mode": {
    "name": "ipython",
    "version": 3
   },
   "file_extension": ".py",
   "mimetype": "text/x-python",
   "name": "python",
   "nbconvert_exporter": "python",
   "pygments_lexer": "ipython3",
   "version": "3.6.5"
  }
 },
 "nbformat": 4,
 "nbformat_minor": 2
}
